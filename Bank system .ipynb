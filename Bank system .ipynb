{
 "cells": [
  {
   "cell_type": "code",
   "execution_count": null,
   "id": "1105433d-9175-4874-b307-e666106e2fcb",
   "metadata": {},
   "outputs": [],
   "source": [
    "from getpass import getpass\n",
    "class customer_data:\n",
    "    def __init__(self):\n",
    "        self.name=('')\n",
    "        self.password=('')\n",
    "    def show_customer_name(self):\n",
    "        while True:\n",
    "            first_name=input('enter your first name please(letters only): ')\n",
    "            last_name=input('enter your last name please(letters only): ')\n",
    "            name=(first_name+' '+last_name)\n",
    "            if first_name.isalpha() and last_name.isalpha():\n",
    "                self.name=(name)\n",
    "                return(name)\n",
    "                break\n",
    "            print('invalid input. please enters letters only ') \n",
    "            \n",
    "    def is_valid_password(self,password):\n",
    "        min_length=10\n",
    "        recuirements=[\n",
    "            any(i.isdigit() for i in password),\n",
    "            any(i.isupper() for i in password),\n",
    "            any(i.islower() for i in password),\n",
    "            any(i in \"!@#$%^&*()_+-=[]{};':|\\,.<>/? \" for i in password )]\n",
    "        return(len(password)>=min_length) and all(recuirements)\n",
    "    def show_customer_password(self):\n",
    "        while True: \n",
    "            password=getpass('please enter your password')\n",
    "            confirmation_password=getpass('please confirm your password')\n",
    "            if password != confirmation_password:\n",
    "                print(\"Passwords do not match. Please try again.\")\n",
    "                continue\n",
    "            if not is_valid_password(password):\n",
    "                print(\"Password is too weak\")\n",
    "                continue\n",
    "            return(password)\n",
    "            self.password=password\n",
    "            break\n",
    "    \n",
    "    "
   ]
  },
  {
   "cell_type": "code",
   "execution_count": null,
   "id": "3491dc41-c8d5-425b-baf2-cda9d1b902c5",
   "metadata": {},
   "outputs": [],
   "source": []
  }
 ],
 "metadata": {
  "kernelspec": {
   "display_name": "Python 3 (ipykernel)",
   "language": "python",
   "name": "python3"
  },
  "language_info": {
   "codemirror_mode": {
    "name": "ipython",
    "version": 3
   },
   "file_extension": ".py",
   "mimetype": "text/x-python",
   "name": "python",
   "nbconvert_exporter": "python",
   "pygments_lexer": "ipython3",
   "version": "3.11.7"
  }
 },
 "nbformat": 4,
 "nbformat_minor": 5
}
