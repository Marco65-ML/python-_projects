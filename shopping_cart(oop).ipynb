{
 "cells": [
  {
   "cell_type": "code",
   "execution_count": 69,
   "id": "e58937e7-d1d6-44a0-a1a6-00591ed46518",
   "metadata": {},
   "outputs": [],
   "source": [
    "class shopping_cart:\n",
    "    n_visitor=0\n",
    "    n_items=0\n",
    "    def __init__(self):\n",
    "        self.items=[]\n",
    "        shopping_cart.n_visitor+=1\n",
    "        shopping_cart.n_items=len(self.items)\n",
    "    def add_items(self,item,value):\n",
    "        overall=(item,value)\n",
    "        if item.isalpha():\n",
    "            self.items.append(overall)\n",
    "            print(f'done')\n",
    "        else:\n",
    "            print('nothing added')\n",
    "    def remove_item(self,item):\n",
    "        for i in self.items:\n",
    "            if i[0]==item:\n",
    "                self.items.remove(i)\n",
    "                return('item is removed')\n",
    "    def show_items(self):\n",
    "        return(f'{self.items}')\n",
    "    def show_items_number(self):\n",
    "        return(f'{len(self.items)}')\n",
    "    @classmethod\n",
    "    def show_number_visitors(cls):\n",
    "        return(f'{cls.n_visitor}')\n",
    "    @staticmethod\n",
    "    def total_price(*n):\n",
    "        return(f'the price of your items is: {sum(n)} $')\n",
    "        "
   ]
  },
  {
   "cell_type": "code",
   "execution_count": 70,
   "id": "bd7b690a-7248-430f-8ea1-a090f04dd3f8",
   "metadata": {},
   "outputs": [
    {
     "name": "stdout",
     "output_type": "stream",
     "text": [
      "done\n",
      "done\n",
      "done\n",
      "done\n"
     ]
    },
    {
     "data": {
      "text/plain": [
       "'item is removed'"
      ]
     },
     "execution_count": 70,
     "metadata": {},
     "output_type": "execute_result"
    }
   ],
   "source": [
    "p1=shopping_cart()\n",
    "p1.add_items('orange',20)\n",
    "p1.add_items('apple',10)\n",
    "p1.add_items('banana',15)\n",
    "p1.add_items('orange',20)\n",
    "p1.remove_item('orange')"
   ]
  },
  {
   "cell_type": "code",
   "execution_count": 71,
   "id": "8c97464c-fe1b-4aa2-a09f-ce83300dbed0",
   "metadata": {},
   "outputs": [
    {
     "data": {
      "text/plain": [
       "[('apple', 10), ('banana', 15), ('orange', 20)]"
      ]
     },
     "execution_count": 71,
     "metadata": {},
     "output_type": "execute_result"
    }
   ],
   "source": [
    "p1.items"
   ]
  },
  {
   "cell_type": "code",
   "execution_count": 72,
   "id": "ee287ed7-c617-4679-bd8a-e6e3b9e86121",
   "metadata": {},
   "outputs": [
    {
     "data": {
      "text/plain": [
       "'3'"
      ]
     },
     "execution_count": 72,
     "metadata": {},
     "output_type": "execute_result"
    }
   ],
   "source": [
    "p1.show_items_number()"
   ]
  },
  {
   "cell_type": "code",
   "execution_count": null,
   "id": "c9743aae-1995-47c3-8096-21ae27d1db19",
   "metadata": {},
   "outputs": [],
   "source": []
  },
  {
   "cell_type": "code",
   "execution_count": null,
   "id": "eb3c8650-9daf-4b33-9f01-0a7671cec308",
   "metadata": {},
   "outputs": [],
   "source": [
    "\n",
    "    "
   ]
  }
 ],
 "metadata": {
  "kernelspec": {
   "display_name": "Python 3 (ipykernel)",
   "language": "python",
   "name": "python3"
  },
  "language_info": {
   "codemirror_mode": {
    "name": "ipython",
    "version": 3
   },
   "file_extension": ".py",
   "mimetype": "text/x-python",
   "name": "python",
   "nbconvert_exporter": "python",
   "pygments_lexer": "ipython3",
   "version": "3.11.7"
  }
 },
 "nbformat": 4,
 "nbformat_minor": 5
}
